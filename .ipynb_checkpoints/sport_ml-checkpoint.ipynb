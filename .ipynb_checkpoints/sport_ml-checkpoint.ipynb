{
 "cells": [
  {
   "cell_type": "code",
   "execution_count": 1,
   "metadata": {},
   "outputs": [],
   "source": [
    "import pandas as pd\n",
    "df=pd.read_csv('game_form.csv')\n"
   ]
  },
  {
   "cell_type": "code",
   "execution_count": 2,
   "metadata": {},
   "outputs": [
    {
     "data": {
      "text/html": [
       "<div>\n",
       "<style scoped>\n",
       "    .dataframe tbody tr th:only-of-type {\n",
       "        vertical-align: middle;\n",
       "    }\n",
       "\n",
       "    .dataframe tbody tr th {\n",
       "        vertical-align: top;\n",
       "    }\n",
       "\n",
       "    .dataframe thead th {\n",
       "        text-align: right;\n",
       "    }\n",
       "</style>\n",
       "<table border=\"1\" class=\"dataframe\">\n",
       "  <thead>\n",
       "    <tr style=\"text-align: right;\">\n",
       "      <th></th>\n",
       "      <th>Timestamp</th>\n",
       "      <th>עמישם התצפיתן</th>\n",
       "      <th>שם קבוצה מארחת</th>\n",
       "      <th>שם קבוצה אורחת</th>\n",
       "      <th>תאריך המשחק</th>\n",
       "      <th>שעת המשחק</th>\n",
       "      <th>שם האיצטדיון</th>\n",
       "      <th>זמן הגעה למשחק</th>\n",
       "      <th>זמן המתנה בתור</th>\n",
       "      <th>קללות מחוץ למגרש</th>\n",
       "      <th>...</th>\n",
       "      <th>Unnamed: 61</th>\n",
       "      <th>רמת האלימות.8</th>\n",
       "      <th>אירוע.7</th>\n",
       "      <th>מה סיבת האירוע.5</th>\n",
       "      <th>דקה.8</th>\n",
       "      <th>Unnamed: 66</th>\n",
       "      <th>מספר הכרטיסים הצהובים לקבוצת הבית</th>\n",
       "      <th>מספר הכרטיסים האדומים לקבוצת הבית</th>\n",
       "      <th>מספר הכרטיסים הצהובים לקבוצת המתארחת</th>\n",
       "      <th>מספר הכרטיסים האדומים לקבוצת המתארחת</th>\n",
       "    </tr>\n",
       "  </thead>\n",
       "  <tbody>\n",
       "    <tr>\n",
       "      <th>0</th>\n",
       "      <td>07/09/2017 12:36:42</td>\n",
       "      <td>ספיר מסיקה</td>\n",
       "      <td>ביתר</td>\n",
       "      <td>אשדוד</td>\n",
       "      <td>28/08/2017</td>\n",
       "      <td>00:20:00</td>\n",
       "      <td>NaN</td>\n",
       "      <td>0:00:20</td>\n",
       "      <td>0:00:40</td>\n",
       "      <td>3</td>\n",
       "      <td>...</td>\n",
       "      <td>NaN</td>\n",
       "      <td>NaN</td>\n",
       "      <td>NaN</td>\n",
       "      <td>NaN</td>\n",
       "      <td>NaN</td>\n",
       "      <td>NaN</td>\n",
       "      <td>NaN</td>\n",
       "      <td>NaN</td>\n",
       "      <td>NaN</td>\n",
       "      <td>NaN</td>\n",
       "    </tr>\n",
       "    <tr>\n",
       "      <th>1</th>\n",
       "      <td>07/09/2017 18:06:08</td>\n",
       "      <td>סתיו שר שלום</td>\n",
       "      <td>בית\"ר ירושלים</td>\n",
       "      <td>מ.ס. אשדוד</td>\n",
       "      <td>28/08/2017</td>\n",
       "      <td>20:30:00</td>\n",
       "      <td>המושבה</td>\n",
       "      <td>0:40:00</td>\n",
       "      <td>0:05:00</td>\n",
       "      <td>2</td>\n",
       "      <td>...</td>\n",
       "      <td>NaN</td>\n",
       "      <td>NaN</td>\n",
       "      <td>NaN</td>\n",
       "      <td>NaN</td>\n",
       "      <td>NaN</td>\n",
       "      <td>NaN</td>\n",
       "      <td>NaN</td>\n",
       "      <td>NaN</td>\n",
       "      <td>NaN</td>\n",
       "      <td>NaN</td>\n",
       "    </tr>\n",
       "    <tr>\n",
       "      <th>2</th>\n",
       "      <td>09/09/2017 19:55:48</td>\n",
       "      <td>ספי</td>\n",
       "      <td>מכבי תל אביב</td>\n",
       "      <td>בני סכנין</td>\n",
       "      <td>09/09/2017</td>\n",
       "      <td>18:00:00</td>\n",
       "      <td>נתניה</td>\n",
       "      <td>18:13:00</td>\n",
       "      <td>0:00:00</td>\n",
       "      <td>1</td>\n",
       "      <td>...</td>\n",
       "      <td>NaN</td>\n",
       "      <td>NaN</td>\n",
       "      <td>NaN</td>\n",
       "      <td>NaN</td>\n",
       "      <td>NaN</td>\n",
       "      <td>NaN</td>\n",
       "      <td>NaN</td>\n",
       "      <td>NaN</td>\n",
       "      <td>NaN</td>\n",
       "      <td>NaN</td>\n",
       "    </tr>\n",
       "    <tr>\n",
       "      <th>3</th>\n",
       "      <td>10/09/2017 08:06:57</td>\n",
       "      <td>ספיר מסיקה</td>\n",
       "      <td>אשדוד</td>\n",
       "      <td>קרית שמונה</td>\n",
       "      <td>09/09/2017</td>\n",
       "      <td>15:19:00</td>\n",
       "      <td>איצדטיון אשדוד</td>\n",
       "      <td>0:30:00</td>\n",
       "      <td>0:00:00</td>\n",
       "      <td>1</td>\n",
       "      <td>...</td>\n",
       "      <td>NaN</td>\n",
       "      <td>NaN</td>\n",
       "      <td>NaN</td>\n",
       "      <td>NaN</td>\n",
       "      <td>NaN</td>\n",
       "      <td>NaN</td>\n",
       "      <td>NaN</td>\n",
       "      <td>NaN</td>\n",
       "      <td>NaN</td>\n",
       "      <td>NaN</td>\n",
       "    </tr>\n",
       "    <tr>\n",
       "      <th>4</th>\n",
       "      <td>13/09/2017 11:40:04</td>\n",
       "      <td>סתיו שר שלום</td>\n",
       "      <td>מכבי פתח תקווה</td>\n",
       "      <td>ביתר ירושלים</td>\n",
       "      <td>11/09/2017</td>\n",
       "      <td>00:21:00</td>\n",
       "      <td>המושבה</td>\n",
       "      <td>0:30:00</td>\n",
       "      <td>0:05:00</td>\n",
       "      <td>1</td>\n",
       "      <td>...</td>\n",
       "      <td>NaN</td>\n",
       "      <td>NaN</td>\n",
       "      <td>NaN</td>\n",
       "      <td>NaN</td>\n",
       "      <td>NaN</td>\n",
       "      <td>NaN</td>\n",
       "      <td>NaN</td>\n",
       "      <td>NaN</td>\n",
       "      <td>NaN</td>\n",
       "      <td>NaN</td>\n",
       "    </tr>\n",
       "  </tbody>\n",
       "</table>\n",
       "<p>5 rows × 71 columns</p>\n",
       "</div>"
      ],
      "text/plain": [
       "             Timestamp עמישם התצפיתן  שם קבוצה מארחת שם קבוצה אורחת  \\\n",
       "0  07/09/2017 12:36:42    ספיר מסיקה           ביתר           אשדוד   \n",
       "1  07/09/2017 18:06:08  סתיו שר שלום   בית\"ר ירושלים     מ.ס. אשדוד   \n",
       "2  09/09/2017 19:55:48           ספי    מכבי תל אביב      בני סכנין   \n",
       "3  10/09/2017 08:06:57    ספיר מסיקה           אשדוד     קרית שמונה   \n",
       "4  13/09/2017 11:40:04  סתיו שר שלום  מכבי פתח תקווה   ביתר ירושלים   \n",
       "\n",
       "  תאריך המשחק שעת המשחק    שם האיצטדיון זמן הגעה למשחק זמן המתנה בתור  \\\n",
       "0  28/08/2017  00:20:00             NaN        0:00:20        0:00:40   \n",
       "1  28/08/2017  20:30:00          המושבה        0:40:00        0:05:00   \n",
       "2  09/09/2017  18:00:00           נתניה       18:13:00        0:00:00   \n",
       "3  09/09/2017  15:19:00  איצדטיון אשדוד        0:30:00        0:00:00   \n",
       "4  11/09/2017  00:21:00          המושבה        0:30:00        0:05:00   \n",
       "\n",
       "   קללות מחוץ למגרש                 ...                   Unnamed: 61  \\\n",
       "0                 3                 ...                           NaN   \n",
       "1                 2                 ...                           NaN   \n",
       "2                 1                 ...                           NaN   \n",
       "3                 1                 ...                           NaN   \n",
       "4                 1                 ...                           NaN   \n",
       "\n",
       "   רמת האלימות.8  אירוע.7  מה סיבת האירוע.5 דקה.8 Unnamed: 66  \\\n",
       "0            NaN      NaN               NaN   NaN         NaN   \n",
       "1            NaN      NaN               NaN   NaN         NaN   \n",
       "2            NaN      NaN               NaN   NaN         NaN   \n",
       "3            NaN      NaN               NaN   NaN         NaN   \n",
       "4            NaN      NaN               NaN   NaN         NaN   \n",
       "\n",
       "  מספר הכרטיסים הצהובים לקבוצת הבית מספר הכרטיסים האדומים לקבוצת הבית  \\\n",
       "0                               NaN                               NaN   \n",
       "1                               NaN                               NaN   \n",
       "2                               NaN                               NaN   \n",
       "3                               NaN                               NaN   \n",
       "4                               NaN                               NaN   \n",
       "\n",
       "   מספר הכרטיסים הצהובים לקבוצת המתארחת מספר הכרטיסים האדומים לקבוצת המתארחת  \n",
       "0                                   NaN                                  NaN  \n",
       "1                                   NaN                                  NaN  \n",
       "2                                   NaN                                  NaN  \n",
       "3                                   NaN                                  NaN  \n",
       "4                                   NaN                                  NaN  \n",
       "\n",
       "[5 rows x 71 columns]"
      ]
     },
     "execution_count": 2,
     "metadata": {},
     "output_type": "execute_result"
    }
   ],
   "source": [
    "df.head()"
   ]
  },
  {
   "cell_type": "code",
   "execution_count": null,
   "metadata": {},
   "outputs": [],
   "source": []
  },
  {
   "cell_type": "code",
   "execution_count": 3,
   "metadata": {},
   "outputs": [],
   "source": [
    "# geting the metta data on the game\n",
    "\n",
    "game_meta=df[[\"שם קבוצה מארחת\",\"שם קבוצה אורחת\",\"תאריך המשחק\"]]\n",
    "\n"
   ]
  },
  {
   "cell_type": "code",
   "execution_count": null,
   "metadata": {},
   "outputs": [],
   "source": []
  },
  {
   "cell_type": "code",
   "execution_count": 4,
   "metadata": {},
   "outputs": [],
   "source": [
    "# collecting the violence levels \n",
    "r=[col for col in df if (col.startswith('רמת האלימות'))]\n",
    "game_vail=df.loc[:,r]\n"
   ]
  },
  {
   "cell_type": "code",
   "execution_count": null,
   "metadata": {},
   "outputs": [],
   "source": []
  },
  {
   "cell_type": "code",
   "execution_count": null,
   "metadata": {},
   "outputs": [],
   "source": []
  },
  {
   "cell_type": "code",
   "execution_count": null,
   "metadata": {},
   "outputs": [],
   "source": []
  },
  {
   "cell_type": "code",
   "execution_count": 5,
   "metadata": {},
   "outputs": [],
   "source": [
    "# mapping all empty level to there class\n",
    "def class_map(x):\n",
    "    if not pd.isnull(x):\n",
    "        if x<4:\n",
    "            return 1\n",
    "        else:\n",
    "            return 2\n",
    "    return 0\n",
    "\n",
    "\n",
    "game_vail=game_vail.applymap(class_map)\n"
   ]
  },
  {
   "cell_type": "code",
   "execution_count": 6,
   "metadata": {},
   "outputs": [
    {
     "data": {
      "text/html": [
       "<div>\n",
       "<style scoped>\n",
       "    .dataframe tbody tr th:only-of-type {\n",
       "        vertical-align: middle;\n",
       "    }\n",
       "\n",
       "    .dataframe tbody tr th {\n",
       "        vertical-align: top;\n",
       "    }\n",
       "\n",
       "    .dataframe thead th {\n",
       "        text-align: right;\n",
       "    }\n",
       "</style>\n",
       "<table border=\"1\" class=\"dataframe\">\n",
       "  <thead>\n",
       "    <tr style=\"text-align: right;\">\n",
       "      <th></th>\n",
       "      <th>sum</th>\n",
       "      <th>mean</th>\n",
       "      <th>std</th>\n",
       "      <th>max</th>\n",
       "    </tr>\n",
       "  </thead>\n",
       "  <tbody>\n",
       "    <tr>\n",
       "      <th>0</th>\n",
       "      <td>2</td>\n",
       "      <td>0.222222</td>\n",
       "      <td>0.440959</td>\n",
       "      <td>1</td>\n",
       "    </tr>\n",
       "    <tr>\n",
       "      <th>1</th>\n",
       "      <td>1</td>\n",
       "      <td>0.111111</td>\n",
       "      <td>0.333333</td>\n",
       "      <td>1</td>\n",
       "    </tr>\n",
       "    <tr>\n",
       "      <th>2</th>\n",
       "      <td>2</td>\n",
       "      <td>0.222222</td>\n",
       "      <td>0.440959</td>\n",
       "      <td>1</td>\n",
       "    </tr>\n",
       "    <tr>\n",
       "      <th>3</th>\n",
       "      <td>3</td>\n",
       "      <td>0.333333</td>\n",
       "      <td>0.500000</td>\n",
       "      <td>1</td>\n",
       "    </tr>\n",
       "    <tr>\n",
       "      <th>4</th>\n",
       "      <td>1</td>\n",
       "      <td>0.111111</td>\n",
       "      <td>0.333333</td>\n",
       "      <td>1</td>\n",
       "    </tr>\n",
       "  </tbody>\n",
       "</table>\n",
       "</div>"
      ],
      "text/plain": [
       "   sum      mean       std  max\n",
       "0    2  0.222222  0.440959    1\n",
       "1    1  0.111111  0.333333    1\n",
       "2    2  0.222222  0.440959    1\n",
       "3    3  0.333333  0.500000    1\n",
       "4    1  0.111111  0.333333    1"
      ]
     },
     "execution_count": 6,
     "metadata": {},
     "output_type": "execute_result"
    }
   ],
   "source": [
    "labels=game_vail.apply(lambda x: x.max(),axis=1)\n",
    "\n",
    "labels_group=pd.DataFrame()\n",
    "labels_group['sum']=game_vail.sum(axis=1)\n",
    "labels_group['mean']=game_vail.mean(axis=1)\n",
    "labels_group['std']=game_vail.std(axis=1)\n",
    "labels_group['max']=game_vail.max(axis=1)\n",
    "labels_group.head()"
   ]
  },
  {
   "cell_type": "code",
   "execution_count": null,
   "metadata": {},
   "outputs": [],
   "source": []
  },
  {
   "cell_type": "code",
   "execution_count": 7,
   "metadata": {},
   "outputs": [],
   "source": [
    "# size of classes\n"
   ]
  },
  {
   "cell_type": "code",
   "execution_count": null,
   "metadata": {},
   "outputs": [],
   "source": []
  },
  {
   "cell_type": "code",
   "execution_count": null,
   "metadata": {},
   "outputs": [],
   "source": []
  },
  {
   "cell_type": "code",
   "execution_count": null,
   "metadata": {},
   "outputs": [],
   "source": []
  },
  {
   "cell_type": "code",
   "execution_count": null,
   "metadata": {},
   "outputs": [],
   "source": []
  },
  {
   "cell_type": "code",
   "execution_count": null,
   "metadata": {},
   "outputs": [],
   "source": []
  },
  {
   "cell_type": "code",
   "execution_count": null,
   "metadata": {},
   "outputs": [],
   "source": []
  },
  {
   "cell_type": "code",
   "execution_count": null,
   "metadata": {},
   "outputs": [],
   "source": []
  },
  {
   "cell_type": "code",
   "execution_count": null,
   "metadata": {},
   "outputs": [],
   "source": []
  },
  {
   "cell_type": "code",
   "execution_count": null,
   "metadata": {},
   "outputs": [],
   "source": []
  },
  {
   "cell_type": "code",
   "execution_count": 8,
   "metadata": {},
   "outputs": [],
   "source": [
    "## start working on the groups merge\n",
    "## function that fixing the group name\n",
    "groups_names=['בני_סכנין','ביתר_ירושלים','מכבי_תל_אביב','מס_אשדוד','הפועל_חיפה','מכבי_פתח_תקווה','קרית_שמונה','הפועל_אשקלון','מכבי_נתניה','בני_יהודה','עכו','באר_שבע','רעננה','מכבי_חיפה','נס_ציונה','רמת_גן' ,'נצרת']\n",
    "def fixer(x):\n",
    "    if (x in ['בית\"ר ירושלים','ביתר ','ביתר ירושלים','בית\"ר','בית\"ר ','ביתר','בית\"ר ירושלים ']):\n",
    "        return groups_names[1]\n",
    "    elif (x in ['מכבי תל אביב','מכבי ת\"א']):\n",
    "        return groups_names[2]\n",
    "    elif (x in ['בני סכנין','בי סכנין','סכנין']):\n",
    "        return groups_names[0]\n",
    "    elif (x in ['מ.ס. אשדוד','אשדוד','מ.ס אשדוד','מס אשדוד','מ. ס. אשדוד','מ.ס.ע אשדוד','מ.ס. אשדוד ']):\n",
    "        return groups_names[3]\n",
    "    elif (x in ['הפועל חיפה','הפועל חיפה ','הפעול חיפה','פועל חיפה']):\n",
    "        return groups_names[4]\n",
    "    elif (x in ['מכבי פתח תקווה','מכבי פ\"ת','מכבח פתח תקווה','מכבי פתח','מכבי  פתח תקווה','פתח תקווה','מכבי פתח תקוה','מכבי פ.ת.','מכבי פ.ת', 'מכבי פ.ת. ']):\n",
    "        return groups_names[5]\n",
    "    elif (x in ['קרית שמונה','הפועל קריית שמונה','עירוני קריית שמונה','עירוני קרית שמונה','הפועל קרית שמונה','עירוני ק\"ש ','הפועל ק\"ש','עירוני ק\"ש','קריית שמונה']):\n",
    "        return groups_names[6]\n",
    "    elif (x in ['הפועל אשקלון','אשקלון ']):\n",
    "        return groups_names[7]\n",
    "    elif (x in ['מכבי נתניה','מכבי נתניה ','נתניה']):\n",
    "        return groups_names[8]\n",
    "    elif (x in ['בני יהודה תל אביב','בני יהודה','בני יהודה ת\"א']):\n",
    "        return groups_names[9]\n",
    "    elif (x in ['הפועל עכו','עכו','הפועל עכן']):\n",
    "        return groups_names[10]\n",
    "    elif (x in ['באר שבע','הפועל באר שבע','הפועל ב\"ש','הפועל ב\"ש ']):\n",
    "        return groups_names[11]\n",
    "    elif (x in ['הפועל רעננה']):\n",
    "        return groups_names[12]\n",
    "    elif (x in ['מכבי חיפה ','מכבי חיפה']):\n",
    "        return groups_names[13]\n",
    "    return x\n",
    "\n",
    "game_meta=game_meta.applymap(fixer)\n",
    "groups_value_in_label=pd.unique(game_meta[['שם קבוצה אורחת','שם קבוצה מארחת']].values.ravel())"
   ]
  },
  {
   "cell_type": "code",
   "execution_count": 9,
   "metadata": {},
   "outputs": [],
   "source": [
    "# merge the labels with there games \n",
    "mergde_data=pd.merge(game_meta,labels_group , right_index=True, left_index=True)\n"
   ]
  },
  {
   "cell_type": "code",
   "execution_count": null,
   "metadata": {},
   "outputs": [],
   "source": []
  },
  {
   "cell_type": "code",
   "execution_count": 10,
   "metadata": {},
   "outputs": [
    {
     "data": {
      "text/html": [
       "<div>\n",
       "<style scoped>\n",
       "    .dataframe tbody tr th:only-of-type {\n",
       "        vertical-align: middle;\n",
       "    }\n",
       "\n",
       "    .dataframe tbody tr th {\n",
       "        vertical-align: top;\n",
       "    }\n",
       "\n",
       "    .dataframe thead th {\n",
       "        text-align: right;\n",
       "    }\n",
       "</style>\n",
       "<table border=\"1\" class=\"dataframe\">\n",
       "  <thead>\n",
       "    <tr style=\"text-align: right;\">\n",
       "      <th></th>\n",
       "      <th>שם קבוצה מארחת</th>\n",
       "      <th>שם קבוצה אורחת</th>\n",
       "      <th>תאריך המשחק</th>\n",
       "      <th>sum</th>\n",
       "      <th>mean</th>\n",
       "      <th>std</th>\n",
       "      <th>max</th>\n",
       "    </tr>\n",
       "  </thead>\n",
       "  <tbody>\n",
       "    <tr>\n",
       "      <th>6</th>\n",
       "      <td>ביתר_ירושלים</td>\n",
       "      <td>קרית_שמונה</td>\n",
       "      <td>25/09/2017</td>\n",
       "      <td>0</td>\n",
       "      <td>0.0</td>\n",
       "      <td>0.0</td>\n",
       "      <td>0</td>\n",
       "    </tr>\n",
       "    <tr>\n",
       "      <th>32</th>\n",
       "      <td>מכבי_נתניה</td>\n",
       "      <td>רעננה</td>\n",
       "      <td>30/12/2017</td>\n",
       "      <td>0</td>\n",
       "      <td>0.0</td>\n",
       "      <td>0.0</td>\n",
       "      <td>0</td>\n",
       "    </tr>\n",
       "    <tr>\n",
       "      <th>71</th>\n",
       "      <td>מכבי_נתניה</td>\n",
       "      <td>מכבי_תל_אביב</td>\n",
       "      <td>04/03/2018</td>\n",
       "      <td>0</td>\n",
       "      <td>0.0</td>\n",
       "      <td>0.0</td>\n",
       "      <td>0</td>\n",
       "    </tr>\n",
       "  </tbody>\n",
       "</table>\n",
       "</div>"
      ],
      "text/plain": [
       "   שם קבוצה מארחת שם קבוצה אורחת תאריך המשחק  sum  mean  std  max\n",
       "6    ביתר_ירושלים     קרית_שמונה  25/09/2017    0   0.0  0.0    0\n",
       "32     מכבי_נתניה          רעננה  30/12/2017    0   0.0  0.0    0\n",
       "71     מכבי_נתניה   מכבי_תל_אביב  04/03/2018    0   0.0  0.0    0"
      ]
     },
     "execution_count": 10,
     "metadata": {},
     "output_type": "execute_result"
    }
   ],
   "source": [
    "# games without events\n",
    "mergde_data.loc[mergde_data['max']==0]"
   ]
  },
  {
   "cell_type": "code",
   "execution_count": null,
   "metadata": {},
   "outputs": [],
   "source": []
  },
  {
   "cell_type": "code",
   "execution_count": null,
   "metadata": {},
   "outputs": [],
   "source": []
  },
  {
   "cell_type": "code",
   "execution_count": 11,
   "metadata": {},
   "outputs": [
    {
     "name": "stdout",
     "output_type": "stream",
     "text": [
      "loading: facebook_set/hifa.xlsx with size= (36, 101)\n",
      "loading: facebook_set/ranana.xlsx with size= (33, 101)\n",
      "loading: facebook_set/מכבי חיפה ליגת העל.xlsx with size= (33, 101)\n",
      "loading: facebook_set/משחקים של ביתר.xlsx with size= (37, 101)\n",
      "loading: facebook_set/עותק של פתח תקווה כדורגל -.xlsx with size= (33, 101)\n",
      "loading: facebook_set/קובץ נתונים בני סכנין.xlsx with size= (33, 101)\n",
      "loading: facebook_set/קובץ נתונים הפועל אשקלון.xlsx with size= (33, 101)\n",
      "loading: facebook_set/קובץ נתונים מ.ס. אשדוד.xlsx with size= (33, 101)\n",
      "loading: facebook_set/קובץ נתונים מכבי נתניה.xlsx with size= (36, 101)\n",
      "loading: facebook_set/קובץ ריכוז נתונים - מכבי תל אביב עונה 17-18.xlsx with size= (36, 100)\n",
      "loading: facebook_set/קובץ ריכוז נתונים בני יהודה עונה 17-18.xlsx with size= (36, 100)\n",
      "loading: facebook_set/קובץ ריכוז נתונים הפועל עכו עונה 17 18.xlsx with size= (32, 100)\n",
      "loading: facebook_set/קובץ ריכוז נתונים- קרית שמונה כדורגל.xlsx with size= (33, 101)\n",
      "loading: facebook_set/ריכוז נתונים הפועל באר שבע 17-18.xlsx with size= (46, 101)\n",
      "Total size is= 490\n"
     ]
    }
   ],
   "source": [
    "#loading all the execel file\n",
    "from os import listdir,path\n",
    "\n",
    "mypath='facebook_set/'\n",
    "dataframes=[]\n",
    "for filename in listdir(mypath):\n",
    "    if  'xlsx' in filename:\n",
    "        current=pd.read_excel(path.join(mypath,filename))\n",
    "        dataframes.append(current)\n",
    "        print(\"loading: \"+str(path.join(mypath,filename))+\" with size= \"+str(current.shape))\n",
    "    \n",
    "ecxels= pd.concat(dataframes)\n",
    "print (\"Total size is= \"+str(ecxels['מועד המשחק'].count()))\n",
    "ecxels=ecxels.drop('Unnamed: 68',axis=1)"
   ]
  },
  {
   "cell_type": "code",
   "execution_count": null,
   "metadata": {},
   "outputs": [],
   "source": []
  },
  {
   "cell_type": "code",
   "execution_count": null,
   "metadata": {},
   "outputs": [],
   "source": []
  },
  {
   "cell_type": "code",
   "execution_count": null,
   "metadata": {},
   "outputs": [],
   "source": []
  },
  {
   "cell_type": "code",
   "execution_count": 12,
   "metadata": {},
   "outputs": [],
   "source": [
    "# fixing all the teams name\n",
    "ecxels[['מארחת','אורחת']]=ecxels[['מארחת','אורחת']].applymap(fixer)\n"
   ]
  },
  {
   "cell_type": "code",
   "execution_count": 13,
   "metadata": {},
   "outputs": [
    {
     "name": "stdout",
     "output_type": "stream",
     "text": [
      "groups not in this track = ['הפועל פ\"ת', 'מאריבור', 'לוגאנו', 'ויקטוריה פלזן', 'סטיאווה בוקרשט', 'אחי נצרת', 'הפועל רמת גן']\n"
     ]
    }
   ],
   "source": [
    "# removeing groups that aren't in this leage\n",
    "groups_value_in_data=pd.unique(ecxels[['מארחת','אורחת']].values.ravel())\n",
    "remove=[item for item in groups_value_in_data if item not in groups_value_in_label]\n",
    "print(\"groups not in this track = \"+str(remove))\n",
    "ecxels=ecxels[~ecxels['מארחת'].isin(remove)]\n",
    "ecxels=ecxels[~ecxels['אורחת'].isin(remove)]"
   ]
  },
  {
   "cell_type": "code",
   "execution_count": 14,
   "metadata": {},
   "outputs": [],
   "source": [
    "# fixing dates\n",
    "ecxels['מועד המשחק']=pd.to_datetime(ecxels['מועד המשחק'],format='%d-%m-%Y')\n",
    "mergde_data['תאריך המשחק']=pd.to_datetime(mergde_data['תאריך המשחק'],format='%d/%m/%Y')\n",
    "\n",
    "# checking the size sample\n",
    "assert(ecxels['מועד המשחק'].count()>mergde_data['תאריך המשחק'].count())\n",
    "\n",
    "#fixing col names to be the same\n",
    "mergde_data.rename({'תאריך המשחק': 'מועד המשחק','שם קבוצה אורחת': 'אורחת', 'שם קבוצה מארחת': 'מארחת'}, axis='columns',inplace=True)\n",
    "\n"
   ]
  },
  {
   "cell_type": "code",
   "execution_count": 15,
   "metadata": {},
   "outputs": [
    {
     "name": "stdout",
     "output_type": "stream",
     "text": [
      "number of samples= 151\n"
     ]
    }
   ],
   "source": [
    "# merging\n",
    "facebok_and_label=pd.merge(ecxels,mergde_data,how='right',on=['אורחת','מארחת','מועד המשחק'])\n",
    "print(\"number of samples= \"+str(facebok_and_label['מארחת'].count()))\n",
    "\n"
   ]
  },
  {
   "cell_type": "code",
   "execution_count": null,
   "metadata": {},
   "outputs": [],
   "source": []
  },
  {
   "cell_type": "code",
   "execution_count": 16,
   "metadata": {},
   "outputs": [
    {
     "data": {
      "text/html": [
       "<div>\n",
       "<style scoped>\n",
       "    .dataframe tbody tr th:only-of-type {\n",
       "        vertical-align: middle;\n",
       "    }\n",
       "\n",
       "    .dataframe tbody tr th {\n",
       "        vertical-align: top;\n",
       "    }\n",
       "\n",
       "    .dataframe thead th {\n",
       "        text-align: right;\n",
       "    }\n",
       "</style>\n",
       "<table border=\"1\" class=\"dataframe\">\n",
       "  <thead>\n",
       "    <tr style=\"text-align: right;\">\n",
       "      <th></th>\n",
       "      <th>מארחת</th>\n",
       "      <th>אורחת</th>\n",
       "      <th>מועד המשחק</th>\n",
       "    </tr>\n",
       "  </thead>\n",
       "  <tbody>\n",
       "    <tr>\n",
       "      <th>146</th>\n",
       "      <td>מס_אשדוד</td>\n",
       "      <td>הפועל_חיפה</td>\n",
       "      <td>2017-09-12</td>\n",
       "    </tr>\n",
       "    <tr>\n",
       "      <th>147</th>\n",
       "      <td>רעננה</td>\n",
       "      <td>נס ציונה</td>\n",
       "      <td>2018-01-23</td>\n",
       "    </tr>\n",
       "    <tr>\n",
       "      <th>148</th>\n",
       "      <td>מס_אשדוד</td>\n",
       "      <td>רעננה</td>\n",
       "      <td>2018-02-07</td>\n",
       "    </tr>\n",
       "    <tr>\n",
       "      <th>149</th>\n",
       "      <td>רעננה</td>\n",
       "      <td>מס_אשדוד</td>\n",
       "      <td>2018-02-27</td>\n",
       "    </tr>\n",
       "    <tr>\n",
       "      <th>150</th>\n",
       "      <td>מכבי_נתניה</td>\n",
       "      <td>מכבי_תל_אביב</td>\n",
       "      <td>2018-03-04</td>\n",
       "    </tr>\n",
       "  </tbody>\n",
       "</table>\n",
       "</div>"
      ],
      "text/plain": [
       "          מארחת         אורחת מועד המשחק\n",
       "146    מס_אשדוד    הפועל_חיפה 2017-09-12\n",
       "147       רעננה      נס ציונה 2018-01-23\n",
       "148    מס_אשדוד         רעננה 2018-02-07\n",
       "149       רעננה      מס_אשדוד 2018-02-27\n",
       "150  מכבי_נתניה  מכבי_תל_אביב 2018-03-04"
      ]
     },
     "execution_count": 16,
     "metadata": {},
     "output_type": "execute_result"
    }
   ],
   "source": [
    "# thats games without vectors, but with labels\n",
    "left=facebok_and_label.loc[pd.isnull(facebok_and_label['כמות לייקים לרגשות שליליים. 96-130 שעות לפני המשחק'])][['מארחת','אורחת','מועד המשחק']]\n",
    "left.head()\n",
    "\n"
   ]
  },
  {
   "cell_type": "code",
   "execution_count": 17,
   "metadata": {},
   "outputs": [
    {
     "data": {
      "text/html": [
       "<div>\n",
       "<style scoped>\n",
       "    .dataframe tbody tr th:only-of-type {\n",
       "        vertical-align: middle;\n",
       "    }\n",
       "\n",
       "    .dataframe tbody tr th {\n",
       "        vertical-align: top;\n",
       "    }\n",
       "\n",
       "    .dataframe thead th {\n",
       "        text-align: right;\n",
       "    }\n",
       "</style>\n",
       "<table border=\"1\" class=\"dataframe\">\n",
       "  <thead>\n",
       "    <tr style=\"text-align: right;\">\n",
       "      <th></th>\n",
       "      <th>כמות לייקים לביטויי אלימות מילולית 0-24 שעות לפני המשחק</th>\n",
       "      <th>כמות לייקים לביטויי אלימות מילולית. 130-154 שעות לפני המשחק</th>\n",
       "      <th>כמות לייקים לביטויי אלימות מילולית. 154-178 שעות לפני המשחק</th>\n",
       "      <th>כמות לייקים לביטויי אלימות מילולית. 24-48 שעות לפני המשחק</th>\n",
       "      <th>כמות לייקים לביטויי אלימות מילולית. 3 שעות לפני המשחק</th>\n",
       "      <th>כמות לייקים לביטויי אלימות מילולית. 48-72 שעות לפני המשחק</th>\n",
       "      <th>כמות לייקים לביטויי אלימות מילולית. 72-96 שעות לפני המשחק</th>\n",
       "      <th>כמות לייקים לביטויי אלימות מילולית. 96-130 שעות לפני המשחק</th>\n",
       "      <th>אורחת</th>\n",
       "      <th>מארחת</th>\n",
       "      <th>מועד המשחק</th>\n",
       "    </tr>\n",
       "  </thead>\n",
       "  <tbody>\n",
       "    <tr>\n",
       "      <th>77</th>\n",
       "      <td>NaN</td>\n",
       "      <td>NaN</td>\n",
       "      <td>NaN</td>\n",
       "      <td>NaN</td>\n",
       "      <td>NaN</td>\n",
       "      <td>NaN</td>\n",
       "      <td>NaN</td>\n",
       "      <td>NaN</td>\n",
       "      <td>ביתר_ירושלים</td>\n",
       "      <td>באר_שבע</td>\n",
       "      <td>2018-02-25</td>\n",
       "    </tr>\n",
       "    <tr>\n",
       "      <th>79</th>\n",
       "      <td>NaN</td>\n",
       "      <td>NaN</td>\n",
       "      <td>NaN</td>\n",
       "      <td>NaN</td>\n",
       "      <td>NaN</td>\n",
       "      <td>NaN</td>\n",
       "      <td>NaN</td>\n",
       "      <td>NaN</td>\n",
       "      <td>עכו</td>\n",
       "      <td>ביתר_ירושלים</td>\n",
       "      <td>2018-03-04</td>\n",
       "    </tr>\n",
       "    <tr>\n",
       "      <th>81</th>\n",
       "      <td>NaN</td>\n",
       "      <td>NaN</td>\n",
       "      <td>NaN</td>\n",
       "      <td>NaN</td>\n",
       "      <td>NaN</td>\n",
       "      <td>NaN</td>\n",
       "      <td>NaN</td>\n",
       "      <td>NaN</td>\n",
       "      <td>ביתר_ירושלים</td>\n",
       "      <td>רעננה</td>\n",
       "      <td>2018-03-11</td>\n",
       "    </tr>\n",
       "    <tr>\n",
       "      <th>82</th>\n",
       "      <td>NaN</td>\n",
       "      <td>NaN</td>\n",
       "      <td>NaN</td>\n",
       "      <td>NaN</td>\n",
       "      <td>NaN</td>\n",
       "      <td>NaN</td>\n",
       "      <td>NaN</td>\n",
       "      <td>NaN</td>\n",
       "      <td>מכבי_נתניה</td>\n",
       "      <td>ביתר_ירושלים</td>\n",
       "      <td>2018-03-17</td>\n",
       "    </tr>\n",
       "    <tr>\n",
       "      <th>84</th>\n",
       "      <td>NaN</td>\n",
       "      <td>NaN</td>\n",
       "      <td>NaN</td>\n",
       "      <td>NaN</td>\n",
       "      <td>NaN</td>\n",
       "      <td>NaN</td>\n",
       "      <td>NaN</td>\n",
       "      <td>NaN</td>\n",
       "      <td>בני_יהודה</td>\n",
       "      <td>ביתר_ירושלים</td>\n",
       "      <td>2018-04-08</td>\n",
       "    </tr>\n",
       "    <tr>\n",
       "      <th>86</th>\n",
       "      <td>NaN</td>\n",
       "      <td>NaN</td>\n",
       "      <td>NaN</td>\n",
       "      <td>NaN</td>\n",
       "      <td>NaN</td>\n",
       "      <td>NaN</td>\n",
       "      <td>NaN</td>\n",
       "      <td>NaN</td>\n",
       "      <td>מכבי_תל_אביב</td>\n",
       "      <td>ביתר_ירושלים</td>\n",
       "      <td>2018-04-16</td>\n",
       "    </tr>\n",
       "    <tr>\n",
       "      <th>88</th>\n",
       "      <td>NaN</td>\n",
       "      <td>NaN</td>\n",
       "      <td>NaN</td>\n",
       "      <td>NaN</td>\n",
       "      <td>NaN</td>\n",
       "      <td>NaN</td>\n",
       "      <td>NaN</td>\n",
       "      <td>NaN</td>\n",
       "      <td>ביתר_ירושלים</td>\n",
       "      <td>מכבי_נתניה</td>\n",
       "      <td>2018-04-30</td>\n",
       "    </tr>\n",
       "    <tr>\n",
       "      <th>90</th>\n",
       "      <td>NaN</td>\n",
       "      <td>NaN</td>\n",
       "      <td>NaN</td>\n",
       "      <td>NaN</td>\n",
       "      <td>NaN</td>\n",
       "      <td>NaN</td>\n",
       "      <td>NaN</td>\n",
       "      <td>NaN</td>\n",
       "      <td>באר_שבע</td>\n",
       "      <td>ביתר_ירושלים</td>\n",
       "      <td>2018-05-05</td>\n",
       "    </tr>\n",
       "    <tr>\n",
       "      <th>91</th>\n",
       "      <td>NaN</td>\n",
       "      <td>NaN</td>\n",
       "      <td>NaN</td>\n",
       "      <td>NaN</td>\n",
       "      <td>NaN</td>\n",
       "      <td>NaN</td>\n",
       "      <td>NaN</td>\n",
       "      <td>NaN</td>\n",
       "      <td>הפועל_חיפה</td>\n",
       "      <td>ביתר_ירושלים</td>\n",
       "      <td>2018-05-09</td>\n",
       "    </tr>\n",
       "    <tr>\n",
       "      <th>92</th>\n",
       "      <td>NaN</td>\n",
       "      <td>NaN</td>\n",
       "      <td>NaN</td>\n",
       "      <td>NaN</td>\n",
       "      <td>NaN</td>\n",
       "      <td>NaN</td>\n",
       "      <td>NaN</td>\n",
       "      <td>NaN</td>\n",
       "      <td>ביתר_ירושלים</td>\n",
       "      <td>מכבי_תל_אביב</td>\n",
       "      <td>2018-05-15</td>\n",
       "    </tr>\n",
       "  </tbody>\n",
       "</table>\n",
       "</div>"
      ],
      "text/plain": [
       "    כמות לייקים לביטויי אלימות מילולית 0-24 שעות לפני המשחק  \\\n",
       "77                                                NaN         \n",
       "79                                                NaN         \n",
       "81                                                NaN         \n",
       "82                                                NaN         \n",
       "84                                                NaN         \n",
       "86                                                NaN         \n",
       "88                                                NaN         \n",
       "90                                                NaN         \n",
       "91                                                NaN         \n",
       "92                                                NaN         \n",
       "\n",
       "    כמות לייקים לביטויי אלימות מילולית. 130-154 שעות לפני המשחק  \\\n",
       "77                                                NaN             \n",
       "79                                                NaN             \n",
       "81                                                NaN             \n",
       "82                                                NaN             \n",
       "84                                                NaN             \n",
       "86                                                NaN             \n",
       "88                                                NaN             \n",
       "90                                                NaN             \n",
       "91                                                NaN             \n",
       "92                                                NaN             \n",
       "\n",
       "    כמות לייקים לביטויי אלימות מילולית. 154-178 שעות לפני המשחק  \\\n",
       "77                                                NaN             \n",
       "79                                                NaN             \n",
       "81                                                NaN             \n",
       "82                                                NaN             \n",
       "84                                                NaN             \n",
       "86                                                NaN             \n",
       "88                                                NaN             \n",
       "90                                                NaN             \n",
       "91                                                NaN             \n",
       "92                                                NaN             \n",
       "\n",
       "    כמות לייקים לביטויי אלימות מילולית. 24-48 שעות לפני המשחק  \\\n",
       "77                                                NaN           \n",
       "79                                                NaN           \n",
       "81                                                NaN           \n",
       "82                                                NaN           \n",
       "84                                                NaN           \n",
       "86                                                NaN           \n",
       "88                                                NaN           \n",
       "90                                                NaN           \n",
       "91                                                NaN           \n",
       "92                                                NaN           \n",
       "\n",
       "    כמות לייקים לביטויי אלימות מילולית. 3 שעות לפני המשחק  \\\n",
       "77                                                NaN       \n",
       "79                                                NaN       \n",
       "81                                                NaN       \n",
       "82                                                NaN       \n",
       "84                                                NaN       \n",
       "86                                                NaN       \n",
       "88                                                NaN       \n",
       "90                                                NaN       \n",
       "91                                                NaN       \n",
       "92                                                NaN       \n",
       "\n",
       "    כמות לייקים לביטויי אלימות מילולית. 48-72 שעות לפני המשחק  \\\n",
       "77                                                NaN           \n",
       "79                                                NaN           \n",
       "81                                                NaN           \n",
       "82                                                NaN           \n",
       "84                                                NaN           \n",
       "86                                                NaN           \n",
       "88                                                NaN           \n",
       "90                                                NaN           \n",
       "91                                                NaN           \n",
       "92                                                NaN           \n",
       "\n",
       "    כמות לייקים לביטויי אלימות מילולית. 72-96 שעות לפני המשחק  \\\n",
       "77                                                NaN           \n",
       "79                                                NaN           \n",
       "81                                                NaN           \n",
       "82                                                NaN           \n",
       "84                                                NaN           \n",
       "86                                                NaN           \n",
       "88                                                NaN           \n",
       "90                                                NaN           \n",
       "91                                                NaN           \n",
       "92                                                NaN           \n",
       "\n",
       "    כמות לייקים לביטויי אלימות מילולית. 96-130 שעות לפני המשחק         אורחת  \\\n",
       "77                                                NaN           ביתר_ירושלים   \n",
       "79                                                NaN                    עכו   \n",
       "81                                                NaN           ביתר_ירושלים   \n",
       "82                                                NaN             מכבי_נתניה   \n",
       "84                                                NaN              בני_יהודה   \n",
       "86                                                NaN           מכבי_תל_אביב   \n",
       "88                                                NaN           ביתר_ירושלים   \n",
       "90                                                NaN                באר_שבע   \n",
       "91                                                NaN             הפועל_חיפה   \n",
       "92                                                NaN           ביתר_ירושלים   \n",
       "\n",
       "           מארחת מועד המשחק  \n",
       "77       באר_שבע 2018-02-25  \n",
       "79  ביתר_ירושלים 2018-03-04  \n",
       "81         רעננה 2018-03-11  \n",
       "82  ביתר_ירושלים 2018-03-17  \n",
       "84  ביתר_ירושלים 2018-04-08  \n",
       "86  ביתר_ירושלים 2018-04-16  \n",
       "88    מכבי_נתניה 2018-04-30  \n",
       "90  ביתר_ירושלים 2018-05-05  \n",
       "91  ביתר_ירושלים 2018-05-09  \n",
       "92  מכבי_תל_אביב 2018-05-15  "
      ]
     },
     "execution_count": 17,
     "metadata": {},
     "output_type": "execute_result"
    }
   ],
   "source": [
    "final_df=pd.merge(ecxels,mergde_data,how='inner',on=['אורחת','מארחת','מועד המשחק'])\n",
    "# find all indexs with nan\n",
    "containNaN=final_df[final_df.isnull().any(axis=1)]\n",
    "# find all columns that have nan in them and present them to with the meta-data\n",
    "containNaN[containNaN.columns[containNaN.isna().any()].tolist()+['אורחת','מארחת','מועד המשחק']]"
   ]
  },
  {
   "cell_type": "code",
   "execution_count": 18,
   "metadata": {},
   "outputs": [],
   "source": [
    "# remove meta-data\n"
   ]
  },
  {
   "cell_type": "code",
   "execution_count": 19,
   "metadata": {},
   "outputs": [],
   "source": [
    "# remove all nan, and check this\n",
    "final_df=final_df.dropna(axis=1,how='any')\n",
    "assert(final_df.isna().sum().sum()==0)"
   ]
  },
  {
   "cell_type": "code",
   "execution_count": 20,
   "metadata": {},
   "outputs": [],
   "source": [
    "# find vlaues \n",
    "#nan_numbric=final_df[final_df.isin(['אפס']).any(axis=1)]\n",
    "#nan_numbric[nan_numbric.columns[nan_numbric.isin(['אפס']).any()].tolist()+['אורחת','מארחת','מועד המשחק']]\n",
    "\n"
   ]
  },
  {
   "cell_type": "code",
   "execution_count": null,
   "metadata": {},
   "outputs": [],
   "source": []
  },
  {
   "cell_type": "code",
   "execution_count": 21,
   "metadata": {},
   "outputs": [
    {
     "data": {
      "text/html": [
       "<div>\n",
       "<style scoped>\n",
       "    .dataframe tbody tr th:only-of-type {\n",
       "        vertical-align: middle;\n",
       "    }\n",
       "\n",
       "    .dataframe tbody tr th {\n",
       "        vertical-align: top;\n",
       "    }\n",
       "\n",
       "    .dataframe thead th {\n",
       "        text-align: right;\n",
       "    }\n",
       "</style>\n",
       "<table border=\"1\" class=\"dataframe\">\n",
       "  <thead>\n",
       "    <tr style=\"text-align: right;\">\n",
       "      <th></th>\n",
       "      <th>כמות ביטויי אלימות מילולית. 0-24 שעות לפני המשחק</th>\n",
       "      <th>כמות ביטויי אלימות מילולית. 130- 154 שעות לפני המשחק</th>\n",
       "      <th>כמות ביטויי אלימות מילולית. 154-178 שעות לפני המשחק</th>\n",
       "      <th>כמות ביטויי אלימות מילולית. 24-48 שעות לפני המשחק</th>\n",
       "      <th>כמות ביטויי אלימות מילולית. 3 שעות לפני המשחק</th>\n",
       "      <th>כמות ביטויי אלימות מילולית. 48-72 שעות לפני המשחק</th>\n",
       "      <th>כמות ביטויי אלימות מילולית. 72-96 שעות לפני המשחק</th>\n",
       "      <th>כמות ביטויי אלימות מילולית. 96-130 שעות לפני המשחק</th>\n",
       "      <th>כמות ביטויי דרמטיזציה. 0-24 שעות לפני המשחק</th>\n",
       "      <th>כמות ביטויי דרמטיזציה. 130-154 שעות לפני המשחק</th>\n",
       "      <th>...</th>\n",
       "      <th>כמות לייקים לרגשות שליליים. 154-178 שעות לפני המשחק</th>\n",
       "      <th>כמות לייקים לרגשות שליליים. 24-48 שעות לפני המשחק</th>\n",
       "      <th>כמות לייקים לרגשות שליליים. 3 שעות לפני המשחק</th>\n",
       "      <th>כמות לייקים לרגשות שליליים. 48-72 שעות לפני המשחק</th>\n",
       "      <th>כמות לייקים לרגשות שליליים. 72-96 שעות לפני המשחק</th>\n",
       "      <th>כמות לייקים לרגשות שליליים. 96-130 שעות לפני המשחק</th>\n",
       "      <th>sum</th>\n",
       "      <th>mean</th>\n",
       "      <th>std</th>\n",
       "      <th>max</th>\n",
       "    </tr>\n",
       "  </thead>\n",
       "  <tbody>\n",
       "    <tr>\n",
       "      <th>52</th>\n",
       "      <td>18</td>\n",
       "      <td>21</td>\n",
       "      <td>3</td>\n",
       "      <td>0</td>\n",
       "      <td>1.0</td>\n",
       "      <td>8</td>\n",
       "      <td>2</td>\n",
       "      <td>1</td>\n",
       "      <td>44</td>\n",
       "      <td>42</td>\n",
       "      <td>...</td>\n",
       "      <td>6</td>\n",
       "      <td>0</td>\n",
       "      <td>0.0</td>\n",
       "      <td>0</td>\n",
       "      <td>0</td>\n",
       "      <td>0</td>\n",
       "      <td>1</td>\n",
       "      <td>0.111111</td>\n",
       "      <td>0.333333</td>\n",
       "      <td>1</td>\n",
       "    </tr>\n",
       "    <tr>\n",
       "      <th>51</th>\n",
       "      <td>18</td>\n",
       "      <td>21</td>\n",
       "      <td>3</td>\n",
       "      <td>0</td>\n",
       "      <td>1.0</td>\n",
       "      <td>8</td>\n",
       "      <td>2</td>\n",
       "      <td>1</td>\n",
       "      <td>44</td>\n",
       "      <td>42</td>\n",
       "      <td>...</td>\n",
       "      <td>6</td>\n",
       "      <td>0</td>\n",
       "      <td>0.0</td>\n",
       "      <td>0</td>\n",
       "      <td>0</td>\n",
       "      <td>0</td>\n",
       "      <td>2</td>\n",
       "      <td>0.222222</td>\n",
       "      <td>0.440959</td>\n",
       "      <td>1</td>\n",
       "    </tr>\n",
       "    <tr>\n",
       "      <th>53</th>\n",
       "      <td>8</td>\n",
       "      <td>0</td>\n",
       "      <td>0</td>\n",
       "      <td>2</td>\n",
       "      <td>2.0</td>\n",
       "      <td>0</td>\n",
       "      <td>0</td>\n",
       "      <td>3</td>\n",
       "      <td>25</td>\n",
       "      <td>0</td>\n",
       "      <td>...</td>\n",
       "      <td>0</td>\n",
       "      <td>0</td>\n",
       "      <td>2.0</td>\n",
       "      <td>0</td>\n",
       "      <td>0</td>\n",
       "      <td>0</td>\n",
       "      <td>2</td>\n",
       "      <td>0.222222</td>\n",
       "      <td>0.440959</td>\n",
       "      <td>1</td>\n",
       "    </tr>\n",
       "    <tr>\n",
       "      <th>54</th>\n",
       "      <td>8</td>\n",
       "      <td>0</td>\n",
       "      <td>0</td>\n",
       "      <td>2</td>\n",
       "      <td>2.0</td>\n",
       "      <td>0</td>\n",
       "      <td>0</td>\n",
       "      <td>3</td>\n",
       "      <td>25</td>\n",
       "      <td>0</td>\n",
       "      <td>...</td>\n",
       "      <td>0</td>\n",
       "      <td>0</td>\n",
       "      <td>2.0</td>\n",
       "      <td>0</td>\n",
       "      <td>0</td>\n",
       "      <td>0</td>\n",
       "      <td>1</td>\n",
       "      <td>0.111111</td>\n",
       "      <td>0.333333</td>\n",
       "      <td>1</td>\n",
       "    </tr>\n",
       "    <tr>\n",
       "      <th>108</th>\n",
       "      <td>14</td>\n",
       "      <td>2</td>\n",
       "      <td>4</td>\n",
       "      <td>0</td>\n",
       "      <td>0.0</td>\n",
       "      <td>5</td>\n",
       "      <td>8</td>\n",
       "      <td>12</td>\n",
       "      <td>35</td>\n",
       "      <td>11</td>\n",
       "      <td>...</td>\n",
       "      <td>1</td>\n",
       "      <td>0</td>\n",
       "      <td>1.0</td>\n",
       "      <td>0</td>\n",
       "      <td>0</td>\n",
       "      <td>7</td>\n",
       "      <td>2</td>\n",
       "      <td>0.222222</td>\n",
       "      <td>0.440959</td>\n",
       "      <td>1</td>\n",
       "    </tr>\n",
       "  </tbody>\n",
       "</table>\n",
       "<p>5 rows × 92 columns</p>\n",
       "</div>"
      ],
      "text/plain": [
       "     כמות ביטויי אלימות מילולית. 0-24 שעות לפני המשחק  \\\n",
       "52                                                 18   \n",
       "51                                                 18   \n",
       "53                                                  8   \n",
       "54                                                  8   \n",
       "108                                                14   \n",
       "\n",
       "     כמות ביטויי אלימות מילולית. 130- 154 שעות לפני המשחק  \\\n",
       "52                                                  21      \n",
       "51                                                  21      \n",
       "53                                                   0      \n",
       "54                                                   0      \n",
       "108                                                  2      \n",
       "\n",
       "     כמות ביטויי אלימות מילולית. 154-178 שעות לפני המשחק  \\\n",
       "52                                                   3     \n",
       "51                                                   3     \n",
       "53                                                   0     \n",
       "54                                                   0     \n",
       "108                                                  4     \n",
       "\n",
       "     כמות ביטויי אלימות מילולית. 24-48 שעות לפני המשחק  \\\n",
       "52                                                   0   \n",
       "51                                                   0   \n",
       "53                                                   2   \n",
       "54                                                   2   \n",
       "108                                                  0   \n",
       "\n",
       "     כמות ביטויי אלימות מילולית. 3 שעות לפני המשחק  \\\n",
       "52                                             1.0   \n",
       "51                                             1.0   \n",
       "53                                             2.0   \n",
       "54                                             2.0   \n",
       "108                                            0.0   \n",
       "\n",
       "     כמות ביטויי אלימות מילולית. 48-72 שעות לפני המשחק  \\\n",
       "52                                                   8   \n",
       "51                                                   8   \n",
       "53                                                   0   \n",
       "54                                                   0   \n",
       "108                                                  5   \n",
       "\n",
       "     כמות ביטויי אלימות מילולית. 72-96 שעות לפני המשחק  \\\n",
       "52                                                   2   \n",
       "51                                                   2   \n",
       "53                                                   0   \n",
       "54                                                   0   \n",
       "108                                                  8   \n",
       "\n",
       "     כמות ביטויי אלימות מילולית. 96-130 שעות לפני המשחק  \\\n",
       "52                                                   1    \n",
       "51                                                   1    \n",
       "53                                                   3    \n",
       "54                                                   3    \n",
       "108                                                 12    \n",
       "\n",
       "     כמות ביטויי דרמטיזציה. 0-24 שעות לפני המשחק  \\\n",
       "52                                            44   \n",
       "51                                            44   \n",
       "53                                            25   \n",
       "54                                            25   \n",
       "108                                           35   \n",
       "\n",
       "     כמות ביטויי דרמטיזציה. 130-154 שעות לפני המשחק ...   \\\n",
       "52                                               42 ...    \n",
       "51                                               42 ...    \n",
       "53                                                0 ...    \n",
       "54                                                0 ...    \n",
       "108                                              11 ...    \n",
       "\n",
       "     כמות לייקים לרגשות שליליים. 154-178 שעות לפני המשחק  \\\n",
       "52                                                   6     \n",
       "51                                                   6     \n",
       "53                                                   0     \n",
       "54                                                   0     \n",
       "108                                                  1     \n",
       "\n",
       "     כמות לייקים לרגשות שליליים. 24-48 שעות לפני המשחק  \\\n",
       "52                                                   0   \n",
       "51                                                   0   \n",
       "53                                                   0   \n",
       "54                                                   0   \n",
       "108                                                  0   \n",
       "\n",
       "     כמות לייקים לרגשות שליליים. 3 שעות לפני המשחק  \\\n",
       "52                                             0.0   \n",
       "51                                             0.0   \n",
       "53                                             2.0   \n",
       "54                                             2.0   \n",
       "108                                            1.0   \n",
       "\n",
       "     כמות לייקים לרגשות שליליים. 48-72 שעות לפני המשחק  \\\n",
       "52                                                   0   \n",
       "51                                                   0   \n",
       "53                                                   0   \n",
       "54                                                   0   \n",
       "108                                                  0   \n",
       "\n",
       "     כמות לייקים לרגשות שליליים. 72-96 שעות לפני המשחק  \\\n",
       "52                                                   0   \n",
       "51                                                   0   \n",
       "53                                                   0   \n",
       "54                                                   0   \n",
       "108                                                  0   \n",
       "\n",
       "     כמות לייקים לרגשות שליליים. 96-130 שעות לפני המשחק  sum      mean  \\\n",
       "52                                                   0     1  0.111111   \n",
       "51                                                   0     2  0.222222   \n",
       "53                                                   0     2  0.222222   \n",
       "54                                                   0     1  0.111111   \n",
       "108                                                  7     2  0.222222   \n",
       "\n",
       "          std  max  \n",
       "52   0.333333    1  \n",
       "51   0.440959    1  \n",
       "53   0.440959    1  \n",
       "54   0.333333    1  \n",
       "108  0.440959    1  \n",
       "\n",
       "[5 rows x 92 columns]"
      ]
     },
     "execution_count": 21,
     "metadata": {},
     "output_type": "execute_result"
    }
   ],
   "source": [
    "# SORT AND THEN DROP THE TIME\n",
    "final_df=final_df.sort_values(by='מועד המשחק') \n",
    "final_df_copy=final_df.copy()\n",
    "final_df.drop(['מועד המשחק', 'מארחת','אורחת','שעה'], axis=1,inplace=True)\n",
    "final_df.head()"
   ]
  },
  {
   "cell_type": "code",
   "execution_count": null,
   "metadata": {},
   "outputs": [],
   "source": []
  },
  {
   "cell_type": "code",
   "execution_count": 22,
   "metadata": {},
   "outputs": [],
   "source": [
    "# second task database (pradicate the max)\n",
    "sec_Y=final_df['max']\n",
    "third_Y=final_df[['max', 'mean','std','sum']]\n",
    "X=final_df.drop(['max', 'mean','std','sum'], axis=1)"
   ]
  },
  {
   "cell_type": "code",
   "execution_count": null,
   "metadata": {},
   "outputs": [],
   "source": []
  },
  {
   "cell_type": "code",
   "execution_count": null,
   "metadata": {},
   "outputs": [],
   "source": []
  },
  {
   "cell_type": "code",
   "execution_count": null,
   "metadata": {},
   "outputs": [],
   "source": []
  },
  {
   "cell_type": "code",
   "execution_count": 23,
   "metadata": {},
   "outputs": [],
   "source": [
    "# START LEARNING , first we will find the labels to the first task\n",
    "from sklearn.neighbors import KNeighborsClassifier \n",
    "from sklearn.model_selection import train_test_split\n",
    "\n"
   ]
  },
  {
   "cell_type": "code",
   "execution_count": 24,
   "metadata": {},
   "outputs": [
    {
     "data": {
      "text/plain": [
       "<matplotlib.figure.Figure at 0xd817530>"
      ]
     },
     "metadata": {},
     "output_type": "display_data"
    }
   ],
   "source": [
    "from sklearn.cluster import KMeans\n",
    "from sklearn.metrics import silhouette_samples, silhouette_score\n",
    "import matplotlib.pyplot as plt\n",
    "\n",
    "#https://stackoverflow.com/questions/19197715/scikit-learn-k-means-elbow-criterion\n",
    "# need to look on the elbow\n",
    "dis={}\n",
    "for i in range(2,10):\n",
    "    kmeans = KMeans(n_clusters=i)\n",
    "    cluster_labels = kmeans.fit(X)\n",
    "    dis[i]=cluster_labels.inertia_\n",
    "    #print(\"score for k= \"+str(i)+\" is \"+str(dis[i]))\n",
    "    # select 6-7 levels\n",
    "plt.figure()\n",
    "plt.plot(list(dis.keys()), list(dis.values()))\n",
    "plt.xlabel(\"Number of cluster\")\n",
    "plt.ylabel(\"SSE\")\n",
    "plt.show()\n",
    "\n",
    "# the plot indicate 3 clusters"
   ]
  },
  {
   "cell_type": "code",
   "execution_count": null,
   "metadata": {},
   "outputs": [],
   "source": []
  },
  {
   "cell_type": "code",
   "execution_count": null,
   "metadata": {},
   "outputs": [],
   "source": []
  },
  {
   "cell_type": "code",
   "execution_count": 25,
   "metadata": {},
   "outputs": [
    {
     "data": {
      "image/png": "[encoded data removed]",
      "text/plain": [
       "<matplotlib.figure.Figure at 0xd8172f0>"
      ]
     },
     "metadata": {},
     "output_type": "display_data"
    }
   ],
   "source": [
    "#https://stackoverflow.com/questions/19197715/scikit-learn-k-means-elbow-criterion\n",
    "# need to look on the peak\n",
    "sil_coeff={}\n",
    "for n_cluster in range(2, 11):\n",
    "    kmeans = KMeans(n_clusters=n_cluster).fit(X)\n",
    "    label = kmeans.labels_\n",
    "    sil_coeff[n_cluster] = silhouette_score(X, label, metric='euclidean')\n",
    "    #print(\"For n_clusters={}, The Silhouette Coefficient is {}\".format(n_cluster, sil_coeff[n_cluster]))\n",
    "plt.figure()\n",
    "plt.plot(list(sil_coeff.keys()), list(sil_coeff.values()))\n",
    "plt.xlabel(\"Number of cluster\")\n",
    "plt.ylabel(\"silhouette score\")\n",
    "plt.show()\n",
    "# the plot indicate 5 clusters\n"
   ]
  },
  {
   "cell_type": "code",
   "execution_count": 26,
   "metadata": {},
   "outputs": [
    {
     "data": {
      "image/png": "[encoded data removed]",
      "text/plain": [
       "<matplotlib.figure.Figure at 0xe27c250>"
      ]
     },
     "metadata": {},
     "output_type": "display_data"
    },
    {
     "data": {
      "image/png": "[encoded data removed]",
      "text/plain": [
       "<matplotlib.figure.Figure at 0xe318b30>"
      ]
     },
     "metadata": {},
     "output_type": "display_data"
    }
   ],
   "source": [
    "#so, we need to choose between 3 and 5 clusters\n",
    "# we will draw them both and decaid\n",
    "\n",
    "#for 3 clusters:\n",
    "from sklearn.decomposition import PCA\n",
    "pca = PCA(n_components=3)\n",
    "clf=pca.fit(X)\n",
    "pca_data=clf.fit_transform(X)\n",
    "kmeans3= KMeans(n_clusters=3).fit_predict(X)\n",
    "plt.figure(1)\n",
    "plt.title('Labels from k-means with k=3')\n",
    "plt.scatter(pca_data[:, 0], pca_data[:, 1], c=kmeans3,\n",
    "            s=50, cmap='viridis');\n",
    "cb = plt.colorbar()\n",
    "\n",
    "plt.figure(2)\n",
    "plt.title('Labels from our-function')\n",
    "plt.scatter(pca_data[:, 0], pca_data[:, 1], c=sec_Y,\n",
    "            s=50, cmap='viridis');\n",
    "cb = plt.colorbar()\n",
    "\n"
   ]
  },
  {
   "cell_type": "code",
   "execution_count": null,
   "metadata": {},
   "outputs": [],
   "source": []
  },
  {
   "cell_type": "code",
   "execution_count": null,
   "metadata": {},
   "outputs": [],
   "source": []
  },
  {
   "cell_type": "code",
   "execution_count": null,
   "metadata": {},
   "outputs": [],
   "source": []
  },
  {
   "cell_type": "code",
   "execution_count": null,
   "metadata": {},
   "outputs": [],
   "source": []
  },
  {
   "cell_type": "code",
   "execution_count": null,
   "metadata": {},
   "outputs": [],
   "source": []
  },
  {
   "cell_type": "code",
   "execution_count": null,
   "metadata": {},
   "outputs": [],
   "source": []
  },
  {
   "cell_type": "code",
   "execution_count": null,
   "metadata": {},
   "outputs": [],
   "source": []
  },
  {
   "cell_type": "code",
   "execution_count": null,
   "metadata": {},
   "outputs": [],
   "source": []
  },
  {
   "cell_type": "code",
   "execution_count": null,
   "metadata": {},
   "outputs": [],
   "source": []
  },
  {
   "cell_type": "code",
   "execution_count": null,
   "metadata": {},
   "outputs": [],
   "source": []
  },
  {
   "cell_type": "code",
   "execution_count": null,
   "metadata": {},
   "outputs": [],
   "source": []
  },
  {
   "cell_type": "code",
   "execution_count": null,
   "metadata": {},
   "outputs": [],
   "source": []
  },
  {
   "cell_type": "code",
   "execution_count": 27,
   "metadata": {},
   "outputs": [
    {
     "data": {
      "image/png": "[encoded data removed]",
      "text/plain": [
       "<matplotlib.figure.Figure at 0xe2da490>"
      ]
     },
     "metadata": {},
     "output_type": "display_data"
    },
    {
     "data": {
      "image/png": "[encoded data removed]",
      "text/plain": [
       "<matplotlib.figure.Figure at 0xf4284f0>"
      ]
     },
     "metadata": {},
     "output_type": "display_data"
    }
   ],
   "source": [
    "# for 5 clusters\n",
    "kmeans5 = KMeans(n_clusters=5).fit_predict(X)\n",
    "plt.figure(1)\n",
    "plt.title('Labels from k-means with k=5')\n",
    "plt.scatter(pca_data[:, 0], pca_data[:, 1], c=kmeans5,\n",
    "            s=50, cmap='viridis');\n",
    "cb = plt.colorbar()\n",
    "\n",
    "plt.figure(2)\n",
    "plt.title('Labels from our-function')\n",
    "plt.scatter(pca_data[:, 0], pca_data[:, 1], c=sec_Y,\n",
    "            s=50, cmap='viridis');\n",
    "cb = plt.colorbar()\n"
   ]
  },
  {
   "cell_type": "code",
   "execution_count": null,
   "metadata": {},
   "outputs": [],
   "source": []
  },
  {
   "cell_type": "code",
   "execution_count": 28,
   "metadata": {},
   "outputs": [],
   "source": [
    "# write to csv the cluster selection\n",
    "clusters_compare=pd.concat([final_df_copy,pd.DataFrame(data=kmeans3,columns=['kmeans3']),pd.DataFrame(data=kmeans5,columns=['kmeans5'])],axis=1)\n",
    "clusters_compare.head()\n",
    "clusters_compare.to_csv(encoding='utf-8',path_or_buf='clusters.csv')"
   ]
  },
  {
   "cell_type": "code",
   "execution_count": null,
   "metadata": {},
   "outputs": [],
   "source": []
  },
  {
   "cell_type": "code",
   "execution_count": 29,
   "metadata": {},
   "outputs": [
    {
     "data": {
      "image/png": "[encoded data removed]",
      "text/plain": [
       "<matplotlib.figure.Figure at 0xf502470>"
      ]
     },
     "metadata": {},
     "output_type": "display_data"
    },
    {
     "data": {
      "image/png": "[encoded data removed]",
      "text/plain": [
       "<matplotlib.figure.Figure at 0xf64d5d0>"
      ]
     },
     "metadata": {},
     "output_type": "display_data"
    }
   ],
   "source": [
    "\n",
    "from  sklearn.mixture import GaussianMixture\n",
    "# for 5 clusters\n",
    "labels = GaussianMixture(n_components=3).fit(X).predict(X)\n",
    "plt.figure(1)\n",
    "plt.title('Labels from GaussianMixture with k=3')\n",
    "plt.scatter(pca_data[:, 0], pca_data[:, 1], c=labels,\n",
    "            s=50, cmap='viridis');\n",
    "cb = plt.colorbar()\n",
    "\n",
    "\n",
    "plt.figure(2)\n",
    "plt.title('Labels from our-function')\n",
    "plt.scatter(pca_data[:, 0], pca_data[:, 1], c=sec_Y,\n",
    "            s=50, cmap='viridis');\n",
    "cb = plt.colorbar()\n"
   ]
  },
  {
   "cell_type": "code",
   "execution_count": null,
   "metadata": {},
   "outputs": [],
   "source": []
  },
  {
   "cell_type": "code",
   "execution_count": null,
   "metadata": {},
   "outputs": [],
   "source": []
  },
  {
   "cell_type": "code",
   "execution_count": null,
   "metadata": {},
   "outputs": [],
   "source": []
  },
  {
   "cell_type": "code",
   "execution_count": null,
   "metadata": {},
   "outputs": [],
   "source": []
  },
  {
   "cell_type": "code",
   "execution_count": null,
   "metadata": {},
   "outputs": [],
   "source": []
  },
  {
   "cell_type": "code",
   "execution_count": null,
   "metadata": {},
   "outputs": [],
   "source": []
  },
  {
   "cell_type": "code",
   "execution_count": null,
   "metadata": {},
   "outputs": [],
   "source": []
  },
  {
   "cell_type": "code",
   "execution_count": null,
   "metadata": {},
   "outputs": [],
   "source": []
  },
  {
   "cell_type": "code",
   "execution_count": 65,
   "metadata": {},
   "outputs": [],
   "source": [
    "from sklearn.metrics import confusion_matrix\n",
    "import numpy as np\n",
    "# BUILD THE FUNCTION THAT DO 5 FOLEDS AS AMIT ASKED\n",
    "def split_by_label(X,Y,the_test_size):\n",
    "    X_train_folds=[pd.DataFrame(),pd.DataFrame(),pd.DataFrame(),pd.DataFrame(),pd.DataFrame()]\n",
    "    X_test_folds=[pd.DataFrame(),pd.DataFrame(),pd.DataFrame(),pd.DataFrame(),pd.DataFrame()]\n",
    "    Y_train_folds=[pd.DataFrame(),pd.DataFrame(),pd.DataFrame(),pd.DataFrame(),pd.DataFrame()]\n",
    "    Y_test_folds=[pd.DataFrame(),pd.DataFrame(),pd.DataFrame(),pd.DataFrame(),pd.DataFrame()]\n",
    "\n",
    "    X['label']=Y\n",
    "    classes=X['label'].unique()\n",
    "    fold_inedx=0\n",
    "    for clas in classes:\n",
    "        all_samples=X[X['label']==clas]\n",
    "        for i in range(5):\n",
    "            X_train, X_test, y_train, y_test = train_test_split(all_samples,pd.DataFrame([clas]*len(all_samples),columns=['label']),test_size=the_test_size,shuffle=True)\n",
    "            X_train_folds[i]=pd.concat([X_train,X_train_folds[i]])\n",
    "            X_test_folds[i]=pd.concat([X_test,X_test_folds[i]]) \n",
    "            Y_train_folds[i]=pd.concat([y_train,Y_train_folds[i]])  \n",
    "            Y_test_folds[i]=pd.concat([y_test,Y_test_folds[i]]) \n",
    "     \n",
    "            \n",
    "    return X_train_folds,X_test_folds,Y_train_folds,Y_test_folds\n",
    "\n",
    "def five_fold_avg_classifction(clf,X,Y,test_size):\n",
    "    X_train_folds,X_test_folds,Y_train_folds,Y_test_folds=split_by_label(X, Y,the_test_size=test_size)\n",
    "    socre_values=[]\n",
    "    fp_values=[]\n",
    "    for  X_train, X_test, y_train, y_test in zip(X_train_folds,X_test_folds,Y_train_folds,Y_test_folds):\n",
    "        clf=clf.fit(X_train, y_train.values.ravel()) \n",
    "        SVC_score=clf.score(X_test,y_test)\n",
    "        socre_values.append(SVC_score)\n",
    "        cm1 = confusion_matrix(clf.predict(X_test).ravel(), y_test)\n",
    "        FalsePositive = []\n",
    "        for i in range(len(X['label'].unique())):\n",
    "            FalsePositive.append(sum(cm1[:,i]) - cm1[i,i])\n",
    "        fp_values.append(FalsePositive)\n",
    "\n",
    "    return np.average(socre_values),np.average(fp_values, axis=0).ravel()\n",
    "\n",
    "def five_fold_avg_regresion(clf,X,Y,test_size,scoring_function=(lambda clf,x,y:clf.score(x, y))):\n",
    "    X_train_folds,X_test_folds,Y_train_folds,Y_test_folds=split_by_label(X, Y,the_test_size=test_size)\n",
    "    socre_values=[]\n",
    "    fp_values=[]\n",
    "    for  X_train, X_test, y_train, y_test in zip(X_train_folds,X_test_folds,Y_train_folds,Y_test_folds):\n",
    "        clf=clf.fit(X_train, y_train) \n",
    "        SVC_score=scoring_function(clf,X_test,y_test)\n",
    "        socre_values.append(SVC_score)\n",
    "       \n",
    "\n",
    "    return np.average(socre_values)\n",
    "\n",
    "from sklearn.metrics import r2_score\n",
    "\n",
    "def custem_score(clf,x,y):\n",
    "   # print(len(y))\n",
    "    y_pred=clf.predict(x)\n",
    "    #print(str(y_pred[1])+str(y_pred[2]))\n",
    "    y_pred=np.around(y_pred)\n",
    "    #print(str(y_pred[1])+str(y_pred[2]))\n",
    "    return r2_score(y, y_pred)\n",
    "\n",
    "def custem_score_ceil(clf,x,y):\n",
    "   # print(len(y))\n",
    "    y_pred=clf.predict(x)\n",
    "    #print(str(y_pred[1])+str(y_pred[2]))\n",
    "    y_pred=np.ceil(y_pred)\n",
    "    #print(str(y_pred[1])+str(y_pred[2]))\n",
    "    return r2_score(y, y_pred)\n",
    "    \n",
    "def custem_score_floor(clf,x,y):\n",
    "   # print(len(y))\n",
    "    y_pred=clf.predict(x)\n",
    "    #print(str(y_pred[1])+str(y_pred[2]))\n",
    "    y_pred=np.floor(y_pred)\n",
    "    #print(str(y_pred[1])+str(y_pred[2]))\n",
    "    return r2_score(y, y_pred)\n",
    "    \n"
   ]
  },
  {
   "cell_type": "code",
   "execution_count": null,
   "metadata": {},
   "outputs": [],
   "source": []
  },
  {
   "cell_type": "code",
   "execution_count": null,
   "metadata": {},
   "outputs": [],
   "source": []
  },
  {
   "cell_type": "code",
   "execution_count": null,
   "metadata": {},
   "outputs": [],
   "source": []
  },
  {
   "cell_type": "code",
   "execution_count": null,
   "metadata": {},
   "outputs": [],
   "source": []
  },
  {
   "cell_type": "code",
   "execution_count": null,
   "metadata": {},
   "outputs": [],
   "source": []
  },
  {
   "cell_type": "code",
   "execution_count": null,
   "metadata": {},
   "outputs": [],
   "source": []
  },
  {
   "cell_type": "code",
   "execution_count": null,
   "metadata": {},
   "outputs": [],
   "source": []
  },
  {
   "cell_type": "code",
   "execution_count": null,
   "metadata": {},
   "outputs": [],
   "source": []
  },
  {
   "cell_type": "code",
   "execution_count": null,
   "metadata": {},
   "outputs": [],
   "source": []
  },
  {
   "cell_type": "code",
   "execution_count": null,
   "metadata": {},
   "outputs": [],
   "source": []
  },
  {
   "cell_type": "code",
   "execution_count": null,
   "metadata": {},
   "outputs": [],
   "source": []
  },
  {
   "cell_type": "code",
   "execution_count": 31,
   "metadata": {},
   "outputs": [
    {
     "name": "stdout",
     "output_type": "stream",
     "text": [
      "kmeans 3 class size= {0: 124, 1: 1, 2: 21}\n",
      "kmeans 5 class size= {0: 127, 1: 1, 2: 10, 3: 3, 4: 5}\n",
      "our class size= {0: 4, 1: 120, 2: 22}\n"
     ]
    }
   ],
   "source": [
    "# count the size of the class\n",
    "def class_size(Y):\n",
    "    unique, counts = np.unique(Y, return_counts=True)\n",
    "    return dict(zip(unique, counts))\n",
    "\n",
    "print(\"kmeans 3 class size= \"+str(class_size(kmeans3)))\n",
    "print(\"kmeans 5 class size= \"+str(class_size(kmeans5)))\n",
    "print(\"our class size= \"+str(class_size(sec_Y)))\n",
    "#print(\"third task class size= \"+str(class_size(third_Y)))\n"
   ]
  },
  {
   "cell_type": "code",
   "execution_count": null,
   "metadata": {},
   "outputs": [],
   "source": []
  },
  {
   "cell_type": "code",
   "execution_count": null,
   "metadata": {},
   "outputs": [],
   "source": []
  },
  {
   "cell_type": "code",
   "execution_count": null,
   "metadata": {},
   "outputs": [],
   "source": []
  },
  {
   "cell_type": "code",
   "execution_count": null,
   "metadata": {},
   "outputs": [],
   "source": []
  },
  {
   "cell_type": "code",
   "execution_count": null,
   "metadata": {},
   "outputs": [],
   "source": []
  },
  {
   "cell_type": "code",
   "execution_count": null,
   "metadata": {},
   "outputs": [],
   "source": []
  },
  {
   "cell_type": "code",
   "execution_count": null,
   "metadata": {},
   "outputs": [],
   "source": []
  },
  {
   "cell_type": "code",
   "execution_count": null,
   "metadata": {},
   "outputs": [],
   "source": []
  },
  {
   "cell_type": "code",
   "execution_count": null,
   "metadata": {},
   "outputs": [],
   "source": []
  },
  {
   "cell_type": "code",
   "execution_count": null,
   "metadata": {},
   "outputs": [],
   "source": []
  },
  {
   "cell_type": "code",
   "execution_count": null,
   "metadata": {},
   "outputs": [],
   "source": []
  },
  {
   "cell_type": "code",
   "execution_count": null,
   "metadata": {},
   "outputs": [],
   "source": []
  },
  {
   "cell_type": "code",
   "execution_count": null,
   "metadata": {},
   "outputs": [],
   "source": []
  },
  {
   "cell_type": "code",
   "execution_count": null,
   "metadata": {},
   "outputs": [],
   "source": []
  },
  {
   "cell_type": "code",
   "execution_count": null,
   "metadata": {},
   "outputs": [],
   "source": []
  },
  {
   "cell_type": "code",
   "execution_count": null,
   "metadata": {},
   "outputs": [],
   "source": []
  },
  {
   "cell_type": "code",
   "execution_count": 32,
   "metadata": {},
   "outputs": [
    {
     "name": "stdout",
     "output_type": "stream",
     "text": [
      "avg score is= 0.86\n"
     ]
    },
    {
     "data": {
      "text/html": [
       "<div>\n",
       "<style scoped>\n",
       "    .dataframe tbody tr th:only-of-type {\n",
       "        vertical-align: middle;\n",
       "    }\n",
       "\n",
       "    .dataframe tbody tr th {\n",
       "        vertical-align: top;\n",
       "    }\n",
       "\n",
       "    .dataframe thead th {\n",
       "        text-align: right;\n",
       "    }\n",
       "</style>\n",
       "<table border=\"1\" class=\"dataframe\">\n",
       "  <thead>\n",
       "    <tr style=\"text-align: right;\">\n",
       "      <th></th>\n",
       "      <th>0</th>\n",
       "      <th>1</th>\n",
       "      <th>2</th>\n",
       "      <th>3</th>\n",
       "      <th>4</th>\n",
       "    </tr>\n",
       "  </thead>\n",
       "  <tbody>\n",
       "    <tr>\n",
       "      <th>0</th>\n",
       "      <td>0.0</td>\n",
       "      <td>1.0</td>\n",
       "      <td>3.0</td>\n",
       "      <td>1.0</td>\n",
       "      <td>2.0</td>\n",
       "    </tr>\n",
       "  </tbody>\n",
       "</table>\n",
       "</div>"
      ],
      "text/plain": [
       "     0    1    2    3    4\n",
       "0  0.0  1.0  3.0  1.0  2.0"
      ]
     },
     "execution_count": 32,
     "metadata": {},
     "output_type": "execute_result"
    }
   ],
   "source": [
    "#calssifaction , using the labels from the clustering with 5 clusters \n",
    "from sklearn import svm\n",
    "socre,fp=five_fold_avg_classifction(svm.SVC(decision_function_shape='ovo'),X, kmeans5, test_size=0.33)\n",
    "print(\"avg score is= \"+str(socre))\n",
    "l=np.arange(len(X['label'].unique()))\n",
    "table=pd.DataFrame([fp],columns=l)\n",
    "table"
   ]
  },
  {
   "cell_type": "code",
   "execution_count": 33,
   "metadata": {},
   "outputs": [
    {
     "name": "stdout",
     "output_type": "stream",
     "text": [
      "avg score is= 0.11100042785\n"
     ]
    },
    {
     "name": "stderr",
     "output_type": "stream",
     "text": [
      "c:\\python\\lib\\site-packages\\sklearn\\utils\\validation.py:578: DataConversionWarning: A column-vector y was passed when a 1d array was expected. Please change the shape of y to (n_samples, ), for example using ravel().\n",
      "  y = column_or_1d(y, warn=True)\n"
     ]
    }
   ],
   "source": [
    "#regresion, using the labels from the clustering with 5 clusters\n",
    "from sklearn import svm\n",
    "socre=five_fold_avg_regresion(svm.SVR(),X, kmeans5, test_size=0.33)\n",
    "print(\"avg score is= \"+str(socre))\n"
   ]
  },
  {
   "cell_type": "code",
   "execution_count": 69,
   "metadata": {},
   "outputs": [
    {
     "name": "stderr",
     "output_type": "stream",
     "text": [
      "c:\\python\\lib\\site-packages\\sklearn\\utils\\validation.py:578: DataConversionWarning: A column-vector y was passed when a 1d array was expected. Please change the shape of y to (n_samples, ), for example using ravel().\n",
      "  y = column_or_1d(y, warn=True)\n"
     ]
    },
    {
     "name": "stdout",
     "output_type": "stream",
     "text": [
      "svr- avg score with normal rmse = -0.121166415284\n",
      "svr- avg score with round the closest = -0.121166415284\n",
      "svr- avg score with ceil  = -0.473102061337\n",
      "svr- avg score with floor = -0.121166415284\n"
     ]
    }
   ],
   "source": [
    "#regresion, using the labels from the clustering with 5 clusters \n",
    "from sklearn import svm\n",
    "socre=five_fold_avg_regresion(svm.SVR(),X, kmeans5, test_size=0.33)\n",
    "closest_socre=five_fold_avg_regresion(svm.SVR(),X, kmeans5, test_size=0.33,scoring_function=custem_score)\n",
    "ceil_socre=five_fold_avg_regresion(svm.SVR(),X, kmeans5, test_size=0.33,scoring_function=custem_score_ceil)\n",
    "floor_socre=five_fold_avg_regresion(svm.SVR(),X, kmeans5, test_size=0.33,scoring_function=custem_score_floor)\n",
    "print(\"svr- avg score with normal rmse = \"+str(closest_socre))\n",
    "print(\"svr- avg score with round the closest = \"+str(closest_socre))\n",
    "print(\"svr- avg score with ceil  = \"+str(ceil_socre))\n",
    "print(\"svr- avg score with floor = \"+str(closest_socre))"
   ]
  },
  {
   "cell_type": "code",
   "execution_count": null,
   "metadata": {},
   "outputs": [],
   "source": []
  },
  {
   "cell_type": "code",
   "execution_count": null,
   "metadata": {},
   "outputs": [],
   "source": []
  },
  {
   "cell_type": "code",
   "execution_count": null,
   "metadata": {},
   "outputs": [],
   "source": []
  },
  {
   "cell_type": "code",
   "execution_count": 34,
   "metadata": {},
   "outputs": [
    {
     "name": "stdout",
     "output_type": "stream",
     "text": [
      "avg score is= 0.857142857143\n"
     ]
    },
    {
     "data": {
      "text/html": [
       "<div>\n",
       "<style scoped>\n",
       "    .dataframe tbody tr th:only-of-type {\n",
       "        vertical-align: middle;\n",
       "    }\n",
       "\n",
       "    .dataframe tbody tr th {\n",
       "        vertical-align: top;\n",
       "    }\n",
       "\n",
       "    .dataframe thead th {\n",
       "        text-align: right;\n",
       "    }\n",
       "</style>\n",
       "<table border=\"1\" class=\"dataframe\">\n",
       "  <thead>\n",
       "    <tr style=\"text-align: right;\">\n",
       "      <th></th>\n",
       "      <th>0</th>\n",
       "      <th>1</th>\n",
       "      <th>2</th>\n",
       "    </tr>\n",
       "  </thead>\n",
       "  <tbody>\n",
       "    <tr>\n",
       "      <th>0</th>\n",
       "      <td>0.0</td>\n",
       "      <td>1.0</td>\n",
       "      <td>6.0</td>\n",
       "    </tr>\n",
       "  </tbody>\n",
       "</table>\n",
       "</div>"
      ],
      "text/plain": [
       "     0    1    2\n",
       "0  0.0  1.0  6.0"
      ]
     },
     "execution_count": 34,
     "metadata": {},
     "output_type": "execute_result"
    }
   ],
   "source": [
    "# second task with out label function\n",
    "# using the labels from the clustering with 3 clusters\n",
    "socre,fp=five_fold_avg_classifction(svm.SVC(decision_function_shape='ovo'),X, kmeans3, test_size=0.33)\n",
    "print(\"avg score is= \"+str(socre))\n",
    "l=np.arange(len(X['label'].unique()))\n",
    "table=pd.DataFrame([fp],columns=l)\n",
    "table"
   ]
  },
  {
   "cell_type": "code",
   "execution_count": 70,
   "metadata": {},
   "outputs": [
    {
     "name": "stderr",
     "output_type": "stream",
     "text": [
      "c:\\python\\lib\\site-packages\\sklearn\\utils\\validation.py:578: DataConversionWarning: A column-vector y was passed when a 1d array was expected. Please change the shape of y to (n_samples, ), for example using ravel().\n",
      "  y = column_or_1d(y, warn=True)\n"
     ]
    },
    {
     "name": "stdout",
     "output_type": "stream",
     "text": [
      "svr- avg score with normal rmse = -0.0698689956332\n",
      "svr- avg score with round the closest = -0.0698689956332\n",
      "svr- avg score with ceil  = -3.49344978166\n",
      "svr- avg score with floor = -0.0698689956332\n"
     ]
    }
   ],
   "source": [
    "#regresion, using the labels from the clustering with 3 clusters \n",
    "from sklearn import svm\n",
    "socre=five_fold_avg_regresion(svm.SVR(),X, kmeans3, test_size=0.33)\n",
    "closest_socre=five_fold_avg_regresion(svm.SVR(),X, kmeans3, test_size=0.33,scoring_function=custem_score)\n",
    "ceil_socre=five_fold_avg_regresion(svm.SVR(),X, kmeans3, test_size=0.33,scoring_function=custem_score_ceil)\n",
    "floor_socre=five_fold_avg_regresion(svm.SVR(),X, kmeans3, test_size=0.33,scoring_function=custem_score_floor)\n",
    "print(\"svr- avg score with normal rmse = \"+str(closest_socre))\n",
    "print(\"svr- avg score with round the closest = \"+str(closest_socre))\n",
    "print(\"svr- avg score with ceil  = \"+str(ceil_socre))\n",
    "print(\"svr- avg score with floor = \"+str(closest_socre))"
   ]
  },
  {
   "cell_type": "code",
   "execution_count": null,
   "metadata": {},
   "outputs": [],
   "source": []
  },
  {
   "cell_type": "code",
   "execution_count": null,
   "metadata": {},
   "outputs": [],
   "source": []
  },
  {
   "cell_type": "code",
   "execution_count": null,
   "metadata": {},
   "outputs": [],
   "source": []
  },
  {
   "cell_type": "code",
   "execution_count": null,
   "metadata": {},
   "outputs": [],
   "source": []
  },
  {
   "cell_type": "code",
   "execution_count": null,
   "metadata": {},
   "outputs": [],
   "source": []
  },
  {
   "cell_type": "code",
   "execution_count": 36,
   "metadata": {},
   "outputs": [
    {
     "name": "stdout",
     "output_type": "stream",
     "text": [
      "avg score is= 0.8\n"
     ]
    },
    {
     "data": {
      "text/html": [
       "<div>\n",
       "<style scoped>\n",
       "    .dataframe tbody tr th:only-of-type {\n",
       "        vertical-align: middle;\n",
       "    }\n",
       "\n",
       "    .dataframe tbody tr th {\n",
       "        vertical-align: top;\n",
       "    }\n",
       "\n",
       "    .dataframe thead th {\n",
       "        text-align: right;\n",
       "    }\n",
       "</style>\n",
       "<table border=\"1\" class=\"dataframe\">\n",
       "  <thead>\n",
       "    <tr style=\"text-align: right;\">\n",
       "      <th></th>\n",
       "      <th>0</th>\n",
       "      <th>1</th>\n",
       "      <th>2</th>\n",
       "    </tr>\n",
       "  </thead>\n",
       "  <tbody>\n",
       "    <tr>\n",
       "      <th>0</th>\n",
       "      <td>2.0</td>\n",
       "      <td>0.0</td>\n",
       "      <td>8.0</td>\n",
       "    </tr>\n",
       "  </tbody>\n",
       "</table>\n",
       "</div>"
      ],
      "text/plain": [
       "     0    1    2\n",
       "0  2.0  0.0  8.0"
      ]
     },
     "execution_count": 36,
     "metadata": {},
     "output_type": "execute_result"
    }
   ],
   "source": [
    "# second task with out label function\n",
    "# using the labels from the clustering with 5 clusters\n",
    "socre,fp=five_fold_avg_classifction(svm.SVC(decision_function_shape='ovo'),X, sec_Y, test_size=0.33)\n",
    "print(\"avg score is= \"+str(socre))\n",
    "l=np.arange(len(X['label'].unique()))\n",
    "table=pd.DataFrame([fp],columns=l)\n",
    "table"
   ]
  },
  {
   "cell_type": "code",
   "execution_count": 74,
   "metadata": {},
   "outputs": [
    {
     "name": "stderr",
     "output_type": "stream",
     "text": [
      "c:\\python\\lib\\site-packages\\sklearn\\utils\\validation.py:578: DataConversionWarning: A column-vector y was passed when a 1d array was expected. Please change the shape of y to (n_samples, ), for example using ravel().\n",
      "  y = column_or_1d(y, warn=True)\n"
     ]
    },
    {
     "name": "stdout",
     "output_type": "stream",
     "text": [
      "svr- avg score with normal rmse = 0.0703196115599\n",
      "svr- avg score with round the closest = -0.0775862068966\n",
      "svr- avg score with ceil  = -3.97844827586\n",
      "svr- avg score with floor = -0.0775862068966\n"
     ]
    }
   ],
   "source": [
    "#regresion, using the labels from the clustering with OUR FUNCTION\n",
    "from sklearn import svm\n",
    "socre=five_fold_avg_regresion(svm.SVR(),X, sec_Y, test_size=0.33)\n",
    "closest_socre=five_fold_avg_regresion(svm.SVR(),X, sec_Y, test_size=0.33,scoring_function=custem_score)\n",
    "ceil_socre=five_fold_avg_regresion(svm.SVR(),X, sec_Y, test_size=0.33,scoring_function=custem_score_ceil)\n",
    "floor_socre=five_fold_avg_regresion(svm.SVR(),X, sec_Y, test_size=0.33,scoring_function=custem_score_floor)\n",
    "print(\"svr- avg score with normal rmse = \"+str(socre))\n",
    "print(\"svr- avg score with round the closest = \"+str(closest_socre))\n",
    "print(\"svr- avg score with ceil  = \"+str(ceil_socre))\n",
    "print(\"svr- avg score with floor = \"+str(closest_socre))"
   ]
  },
  {
   "cell_type": "code",
   "execution_count": null,
   "metadata": {},
   "outputs": [],
   "source": []
  },
  {
   "cell_type": "code",
   "execution_count": 73,
   "metadata": {},
   "outputs": [
    {
     "name": "stdout",
     "output_type": "stream",
     "text": [
      "svr- avg score with normal rmse = 0.0751147554383\n",
      "svr- avg score with round the closest = -0.0775862068966\n",
      "svr- avg score with ceil  = -4.10775862069\n",
      "svr- avg score with floor = -0.0775862068966\n"
     ]
    }
   ],
   "source": [
    "#regresion, using the labels from the clustering THIRD TASK\n",
    "from sklearn.multioutput import MultiOutputRegressor\n",
    "from sklearn import svm\n",
    "socre=five_fold_avg_regresion(MultiOutputRegressor(svm.SVR(kernel='rbf')),X, third_Y.as_matrix(), test_size=0.33)\n",
    "closest_socre=five_fold_avg_regresion(MultiOutputRegressor(svm.SVR(kernel='rbf')),X, third_Y.as_matrix(), test_size=0.33,scoring_function=custem_score)\n",
    "ceil_socre=five_fold_avg_regresion(MultiOutputRegressor(svm.SVR(kernel='rbf')),X, third_Y.as_matrix(), test_size=0.33,scoring_function=custem_score_ceil)\n",
    "floor_socre=five_fold_avg_regresion(MultiOutputRegressor(svm.SVR(kernel='rbf')),X, third_Y.as_matrix(), test_size=0.33,scoring_function=custem_score_floor)\n",
    "print(\"svr- avg score with normal rmse = \"+str(socre))\n",
    "print(\"svr- avg score with round the closest = \"+str(closest_socre))\n",
    "print(\"svr- avg score with ceil  = \"+str(ceil_socre))\n",
    "print(\"svr- avg score with floor = \"+str(closest_socre))"
   ]
  },
  {
   "cell_type": "code",
   "execution_count": null,
   "metadata": {},
   "outputs": [],
   "source": []
  },
  {
   "cell_type": "code",
   "execution_count": null,
   "metadata": {},
   "outputs": [],
   "source": []
  }
 ],
 "metadata": {
  "kernelspec": {
   "display_name": "Python 3",
   "language": "python",
   "name": "python3"
  },
  "language_info": {
   "codemirror_mode": {
    "name": "ipython",
    "version": 3
   },
   "file_extension": ".py",
   "mimetype": "text/x-python",
   "name": "python",
   "nbconvert_exporter": "python",
   "pygments_lexer": "ipython3",
   "version": "3.6.3"
  }
 },
 "nbformat": 4,
 "nbformat_minor": 2
}
